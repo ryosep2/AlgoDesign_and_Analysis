{
 "cells": [
  {
   "cell_type": "code",
   "execution_count": 2,
   "metadata": {},
   "outputs": [],
   "source": [
    "import numpy as np\n",
    "\n",
    "class SkipListNode:\n",
    "    def __init__(self,label,height):\n",
    "        self.label = label\n",
    "        self.next = [None] * height\n",
    "        \n",
    "class SkipList:\n",
    "    def __init__(self):\n",
    "        self.head = SkipListNode(None,0) # when we instantiate a skip list, its head carries no information \n",
    "                                         # it is a node of height 0 (b/c no pointers to it) and its label is \n",
    "    def findpath(self,label): # returns a list of references to the nodes, from the ground level up\n",
    "        path = [None]*len(self.head.next) # generate None Array\n",
    "        x = self.head \n",
    "\n",
    "        for i in reversed(range(len(self.head.next))):\n",
    "            while x.next[i] != None and x.next[i].label <= label:\n",
    "                x = x.next[i]\n",
    "            path[i] = x\n",
    "        return path \n",
    "    \n",
    "    def mem(self,x): # uses findpath to check if the first element of the \"pointer\" list is the lab\n",
    "        path = self.findpath(x)\n",
    "        if path[0].label == x:\n",
    "            return True\n",
    "        else:\n",
    "            return False\n",
    "        \n",
    "#         glvl = self.head.next[0]\n",
    "#         while glvl != None:\n",
    "#             if glvl.label == x:\n",
    "#                 return True\n",
    "#             else:\n",
    "#                 glvl = glvl.next[0]\n",
    "#         return False\n",
    "            \n",
    "    def delete(self,x):\n",
    "        if self.mem(x) == False: # checking if element exists in skippy\n",
    "            print('Error: cannot perform deletion because value not found in list')\n",
    "            return None\n",
    "        \n",
    "        count = self.head.next\n",
    "        for i in range(len(count)):\n",
    "            pos = self.head\n",
    "            while pos.next[i] != None:\n",
    "                if pos.next[i].label != x:\n",
    "                    pos = pos.next[i]\n",
    "                elif pos.next[i].label == x:\n",
    "                    pos.next[i] = pos.next[i].next[i]\n",
    "                    pos = pos.next[i]  \n",
    "                                         \n",
    "    def insert(self,x): #function to insert nodes.\n",
    "        height = np.random.geometric(p = .5, size = None) # calculate height of node\n",
    "        ins_node = SkipListNode(x,height)\n",
    "        \n",
    "        path = self.findpath(x)\n",
    "        \n",
    "        if height > max(range(len(skippy.head.next))):\n",
    "            old_max = max(range(len(skippy.head.next)))\n",
    "            diff = height - old_max\n",
    "            for i in range(diff):\n",
    "                skippy.head.next.append(ins_node)\n",
    "                \n",
    "            path = self.findpath(x) # Recreate path if new express line created\n",
    "        \n",
    "        addy_ins_node = eval('ins_node')\n",
    "        ins_node.next = [] # initialize empty array for pointers to next\n",
    "        for i in range(height):\n",
    "            ins_node.next.append(path[i].next[i])\n",
    "            path[i].next[i] = addy_ins_node\n",
    "        "
   ]
  },
  {
   "cell_type": "code",
   "execution_count": 3,
   "metadata": {},
   "outputs": [],
   "source": [
    "n1 = SkipListNode(1,4)\n",
    "n2 = SkipListNode(4,1)\n",
    "n3 = SkipListNode(5,2)\n",
    "n4 = SkipListNode(7,3)\n",
    "n5 = SkipListNode(8,1)\n",
    "n6 = SkipListNode(9,3)\n",
    "n7 = SkipListNode(11,1)\n",
    "n8 = SkipListNode(16,1)\n",
    "n1.next = [n2,n3,n4,None]\n",
    "n2.next = [n3]\n",
    "n3.next = [n4,n4]\n",
    "n4.next = [n5,n6,n6]\n",
    "n5.next = [n6]\n",
    "n6.next = [n7,None,None]\n",
    "n7.next = [n8]\n",
    "n8.next = [None]\n",
    "skippy = SkipList()\n",
    "skippy.head.next = [n1,n1,n1,n1]"
   ]
  },
  {
   "cell_type": "code",
   "execution_count": 10,
   "metadata": {},
   "outputs": [
    {
     "data": {
      "text/plain": [
       "False"
      ]
     },
     "execution_count": 10,
     "metadata": {},
     "output_type": "execute_result"
    }
   ],
   "source": [
    "skippy.mem(17)"
   ]
  },
  {
   "cell_type": "code",
   "execution_count": 11,
   "metadata": {},
   "outputs": [
    {
     "data": {
      "text/plain": [
       "[<__main__.SkipListNode at 0x10ef16160>,\n",
       " <__main__.SkipListNode at 0x10ef16128>,\n",
       " <__main__.SkipListNode at 0x10ef16128>,\n",
       " <__main__.SkipListNode at 0x10ef16048>]"
      ]
     },
     "execution_count": 11,
     "metadata": {},
     "output_type": "execute_result"
    }
   ],
   "source": [
    "skippy.findpath(13)"
   ]
  },
  {
   "cell_type": "code",
   "execution_count": 12,
   "metadata": {},
   "outputs": [],
   "source": [
    "skippy.insert(10)"
   ]
  },
  {
   "cell_type": "code",
   "execution_count": 15,
   "metadata": {},
   "outputs": [
    {
     "data": {
      "text/plain": [
       "True"
      ]
     },
     "execution_count": 15,
     "metadata": {},
     "output_type": "execute_result"
    }
   ],
   "source": [
    "skippy.mem(10)"
   ]
  },
  {
   "cell_type": "code",
   "execution_count": 16,
   "metadata": {},
   "outputs": [],
   "source": [
    "skippy.delete(10)"
   ]
  },
  {
   "cell_type": "code",
   "execution_count": 17,
   "metadata": {},
   "outputs": [
    {
     "data": {
      "text/plain": [
       "False"
      ]
     },
     "execution_count": 17,
     "metadata": {},
     "output_type": "execute_result"
    }
   ],
   "source": [
    "skippy.mem(10)"
   ]
  },
  {
   "cell_type": "code",
   "execution_count": null,
   "metadata": {},
   "outputs": [],
   "source": [
    "#     def findNode(self,number):\n",
    "#         x = self.head\n",
    "#         i = 0\n",
    "#         while x.next[0] != None:\n",
    "#             if x.next[0].label != number:\n",
    "#                 x = x.next[0]\n",
    "#                 i = i + 1\n",
    "#             if x.next[0].label == number:\n",
    "#                 i = i + 1\n",
    "#                 return 'n' + str(i)\n",
    "#         return None"
   ]
  }
 ],
 "metadata": {
  "kernelspec": {
   "display_name": "Python 3",
   "language": "python",
   "name": "python3"
  },
  "language_info": {
   "codemirror_mode": {
    "name": "ipython",
    "version": 3
   },
   "file_extension": ".py",
   "mimetype": "text/x-python",
   "name": "python",
   "nbconvert_exporter": "python",
   "pygments_lexer": "ipython3",
   "version": "3.7.3"
  }
 },
 "nbformat": 4,
 "nbformat_minor": 2
}
