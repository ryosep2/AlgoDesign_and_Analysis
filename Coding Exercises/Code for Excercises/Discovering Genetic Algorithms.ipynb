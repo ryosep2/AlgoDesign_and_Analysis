{
 "cells": [
  {
   "cell_type": "code",
   "execution_count": 65,
   "metadata": {},
   "outputs": [],
   "source": [
    "import math\n",
    "import random as rd\n",
    "import numpy as np\n",
    "\n",
    "def randomconfiguration():\n",
    "    return [rd.randint(0, 100) for i in range(10)]\n",
    "def f(n):\n",
    "    return sum([math.sin(n[i]*n[i+1]) for i in range (9)]) + math.sin(n[9]*n[0])\n",
    "def montecarlo(n):\n",
    "    xstar = randomconfiguration()\n",
    "    mini = f(xstar)\n",
    "    for i in range(n):\n",
    "        x = randomconfiguration()\n",
    "        fitness = f(x)\n",
    "        if fitness < mini:\n",
    "            xstar = x\n",
    "            mini = fitness\n",
    "    return(xstar,mini)\n",
    "\n",
    "class Individual:\n",
    "    def __init__(self, genome):\n",
    "        self.genome = genome\n",
    "        self.fitness = np.inf\n",
    "        #evaluation of the configuration at his creation self.evaluate_fitness()\n",
    "        self.evaluate_fitness()\n",
    "    def evaluate_fitness(self):\n",
    "        self.fitness = f(self.genome)\n",
    "        \n",
    "\n",
    "    #the following allows you to print a individual\n",
    "\n",
    "    def __repr__(self):\n",
    "        return '('+','.join(['{0}'.format(self.genome[i]) for i in range(10)])+')'+' fitness:{0}'.format(self.fitness)\n",
    "    \n",
    "    def mutate(self,prob_mut):\n",
    "        for i in range(0,10):\n",
    "            if rd.random() < prob_mut:\n",
    "                self.genome[i] = rd.randint(1,100)\n",
    "                \n",
    "                \n",
    "class Population:\n",
    "    def __init__(self, list_individuals):\n",
    "        self.list_individuals = list_individuals \n",
    "    def initialize_population(self, n):\n",
    "        for i in range(n):\n",
    "            construct = Individual(randomconfiguration())\n",
    "            self.list_individuals.append(construct)\n",
    "    def best(self):\n",
    "        # return the best fitness, which is the lowest\n",
    "        # minimize the fitness F(n)\n",
    "        # at the start, the minimum is +infinity\n",
    "        minimum = math.inf\n",
    "        best_individual = None\n",
    "\n",
    "        # we will replace the minimum value through iterations\n",
    "        for i, individual in enumerate(self.list_individuals):\n",
    "            if individual.fitness < minimum:\n",
    "                minimum = individual.fitness\n",
    "                best_individual = i\n",
    "        return best_individual\n",
    "\n",
    "    def worst(self):\n",
    "        maximum = -math.inf\n",
    "        worstIndividual = None\n",
    "\n",
    "        for i, individual in enumerate(self.list_individuals):\n",
    "            if individual.fitness > maximum:\n",
    "                maximum = individual.fitness\n",
    "                worstIndividual = i\n",
    "        return worstIndividual\n",
    "\n",
    "    def random_individual(self):\n",
    "        return self.list_individuals[rd.randint(0, len(self.list_individuals) - 1)]\n",
    "            \n",
    "        \n",
    "    def crossover_population(self,n):\n",
    "        list_ind = []\n",
    "        for i in range(n):\n",
    "            mother = self.random_individual()\n",
    "            father = self.random_individual()\n",
    "            list_ind.append(crossover(father,mother))\n",
    "        return Population(list_ind)\n",
    "    \n",
    "    def mutate_population(self,prob_mut):\n",
    "        for individual in self.list_individuals:\n",
    "            individual.mutate(prob_mut)\n",
    "            \n",
    "    def select(self,children):\n",
    "        # modify the worst individual in list_individual\n",
    "        # left side: worst individuals (parents)\n",
    "        # right side: best individuals (children)\n",
    "        self.list_individuals[self.worst()] = children.list_individuals[children.best()]\n",
    "        \n",
    "    def stat(self):\n",
    "    #building of the list of fitness in the population\n",
    "        list_fitness = np.array([self.list_individuals[i].fitness for i in range(len(self.list_individuals))])\n",
    "    #return the min, the standard deviation, the mean and the max \n",
    "        return [np.min(list_fitness), np.sqrt(np.var(list_fitness)), np.mean(list_fitness), np.max(list_fitness)]\n",
    "        \n",
    "def crossover(father, mother):\n",
    "    locusA = rd.randint(0, 9)\n",
    "    locusB = rd.randint(locusA, 9)\n",
    "\n",
    "    genome = father.genome[:]\n",
    "    for i in range(locusA, locusB + 1):\n",
    "        genome[i] = mother.genome[i]\n",
    "\n",
    "    return Individual(genome)        \n",
    "\n",
    "\n",
    "def genetic_algorithm(population_size,prob_mut,num_of_gens):\n",
    "    parent = Population([])\n",
    "    parent.initialize_population(population_size)\n",
    "    \n",
    "    for i in range(num_of_gens):\n",
    "        offspring = parent.crossover_population(population_size)\n",
    "        offspring.mutate_population(prob_mut)\n",
    "        parent.select(offspring)\n",
    "    return parent.list_individuals[parent.best()]\n",
    "\n",
    "    \n",
    "            "
   ]
  },
  {
   "cell_type": "code",
   "execution_count": 66,
   "metadata": {},
   "outputs": [
    {
     "name": "stdout",
     "output_type": "stream",
     "text": [
      "66\n"
     ]
    }
   ],
   "source": [
    "population = Population([])\n",
    "population.initialize_population(100)\n",
    "print(population.best())"
   ]
  },
  {
   "cell_type": "code",
   "execution_count": 67,
   "metadata": {},
   "outputs": [],
   "source": [
    "newpop = population.crossover_population(100)"
   ]
  },
  {
   "cell_type": "code",
   "execution_count": 68,
   "metadata": {},
   "outputs": [
    {
     "data": {
      "text/plain": [
       "(15,100,100,100,74,100,38,58,38,100) fitness:-9.894009216550792"
      ]
     },
     "execution_count": 68,
     "metadata": {},
     "output_type": "execute_result"
    }
   ],
   "source": [
    "genetic_algorithm(100,0.1,1000)"
   ]
  },
  {
   "cell_type": "code",
   "execution_count": 57,
   "metadata": {},
   "outputs": [
    {
     "data": {
      "text/plain": [
       "([63, 24, 90, 43, 53, 98, 13, 95, 99, 26], -7.928585319621426)"
      ]
     },
     "execution_count": 57,
     "metadata": {},
     "output_type": "execute_result"
    }
   ],
   "source": [
    "montecarlo(10000)"
   ]
  },
  {
   "cell_type": "code",
   "execution_count": 58,
   "metadata": {},
   "outputs": [
    {
     "data": {
      "text/plain": [
       "([13, 83, 66, 77, 27, 26, 63, 32, 40, 54], -9.031085231948705)"
      ]
     },
     "execution_count": 58,
     "metadata": {},
     "output_type": "execute_result"
    }
   ],
   "source": [
    "montecarlo(50000)"
   ]
  },
  {
   "cell_type": "markdown",
   "metadata": {},
   "source": []
  }
 ],
 "metadata": {
  "kernelspec": {
   "display_name": "Python 3",
   "language": "python",
   "name": "python3"
  },
  "language_info": {
   "codemirror_mode": {
    "name": "ipython",
    "version": 3
   },
   "file_extension": ".py",
   "mimetype": "text/x-python",
   "name": "python",
   "nbconvert_exporter": "python",
   "pygments_lexer": "ipython3",
   "version": "3.7.3"
  }
 },
 "nbformat": 4,
 "nbformat_minor": 2
}
