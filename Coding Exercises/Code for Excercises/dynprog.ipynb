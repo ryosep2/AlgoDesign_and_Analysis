def memoize(f):
    mem = {}
    def f_memoized(n):
        
        if n not in mem:
            print('fibo({}) is not in the cache.'.format(n))
            mem[n] = f(n)
        else:
            print('fibo({}) is in the cache. Looking up!'.format(n))
            
        return mem[n]
        
    return f_memoized
    
class Memoize:
    def __init__(self, f):
        self.f = f
        self.mem = {}
        
    def __call__(self, n):
        pass

@Memoize
def fibo(n):
    if n == 0:
        return 0
    elif n == 1:
        return 1
        
    return fibo(n-2) + fibo(n-1)
    
fibo = Memoize(fibo)
